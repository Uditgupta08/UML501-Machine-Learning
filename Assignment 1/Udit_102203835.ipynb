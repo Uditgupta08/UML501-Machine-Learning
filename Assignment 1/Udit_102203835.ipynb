{
 "cells": [
  {
   "cell_type": "markdown",
   "id": "93d8c002",
   "metadata": {},
   "source": [
    "# UDITGUPTA_102203835"
   ]
  },
  {
   "cell_type": "markdown",
   "id": "dd8c0abd",
   "metadata": {},
   "source": [
    "##### Importing Numpy"
   ]
  },
  {
   "cell_type": "code",
   "execution_count": 1,
   "id": "fb4c71bc",
   "metadata": {},
   "outputs": [],
   "source": [
    "import numpy as np"
   ]
  },
  {
   "cell_type": "markdown",
   "id": "0b53e9bc",
   "metadata": {},
   "source": [
    "###### 1(a) Reverse the NumPy array: arr = np.array([1, 2, 3, 6, 4, 5])  "
   ]
  },
  {
   "cell_type": "code",
   "execution_count": 2,
   "id": "3217bb59",
   "metadata": {},
   "outputs": [
    {
     "name": "stdout",
     "output_type": "stream",
     "text": [
      "[5 4 3 2 1]\n",
      "[5 4 3 2 1]\n"
     ]
    }
   ],
   "source": [
    "arr = np.array([1,2,3,4,5])\n",
    "rev = arr[::-1]\n",
    "flip = np.flip(arr)\n",
    "print(rev)\n",
    "print(flip)"
   ]
  },
  {
   "cell_type": "markdown",
   "id": "a716c7be",
   "metadata": {},
   "source": [
    "##### 1(b) Flatten the NumPy arr: array1 = np.array([[1, 2, 3], [2, 4, 5], [1, 2, 3]]) using any two  NumPy in-built methods "
   ]
  },
  {
   "cell_type": "code",
   "execution_count": 3,
   "id": "38057466",
   "metadata": {},
   "outputs": [
    {
     "name": "stdout",
     "output_type": "stream",
     "text": [
      "[1 2 3 2 4 5 1 2 3]\n",
      "[1 2 3 2 4 5 1 2 3]\n"
     ]
    }
   ],
   "source": [
    "arr = np.array([[1,2,3],[2,4,5],[1,2,3]])\n",
    "flat = arr.flatten()\n",
    "print(flat)\n",
    "flat2 = arr.ravel()\n",
    "print(flat2)"
   ]
  },
  {
   "cell_type": "markdown",
   "id": "25088937",
   "metadata": {},
   "source": [
    "#####  1(c) Compare the following numpy arrays:  \n",
    "##### arr1 = np.array([[1, 2], [3, 4]]) \n",
    "##### arr2 = np.array([[1, 2], [3, 4]]) "
   ]
  },
  {
   "cell_type": "code",
   "execution_count": 4,
   "id": "92ca181c",
   "metadata": {},
   "outputs": [
    {
     "name": "stdout",
     "output_type": "stream",
     "text": [
      "True\n"
     ]
    }
   ],
   "source": [
    "arr1 = np.array([[1, 2], [3, 4]]) \n",
    "arr2 = np.array([[1, 2], [3, 4]]) \n",
    "print(np.array_equal(arr1,arr2))"
   ]
  },
  {
   "cell_type": "markdown",
   "id": "1e66a852",
   "metadata": {},
   "source": [
    "##### 1(d) Find the most frequent value and their indice(s) in the following arrays: \n",
    "##### i. x = np.array([1,2,3,4,5,1,2,1,1,1])  \n",
    "##### ii. y = np.array([1, 1, 1, 2, 3, 4, 2, 4, 3, 3])  \n"
   ]
  },
  {
   "cell_type": "code",
   "execution_count": 5,
   "id": "14c401d0",
   "metadata": {},
   "outputs": [
    {
     "name": "stdout",
     "output_type": "stream",
     "text": [
      "Most Frequent in X: 1, Indices: (array([0, 5, 7, 8, 9], dtype=int64),)\n",
      "Most Frequent in Y: 1, Indices: (array([0, 1, 2], dtype=int64),)\n"
     ]
    }
   ],
   "source": [
    "x = np.array([1,2,3,4,5,1,2,1,1,1])\n",
    "y = np.array([1, 1, 1, 2, 3, 4, 2, 4, 3, 3])\n",
    "most_freq_x = np.bincount(x).argmax()\n",
    "ind_x = np.where(x == most_freq_x)\n",
    "most_freq_y = np.bincount(y).argmax()\n",
    "ind_y = np.where(y == most_freq_y)\n",
    "print(f'Most Frequent in X: {most_freq_x}, Indices: {ind_x}')\n",
    "print(f'Most Frequent in Y: {most_freq_y}, Indices: {ind_y}')"
   ]
  },
  {
   "cell_type": "markdown",
   "id": "1ececf5f",
   "metadata": {},
   "source": [
    "#####  1(e) For the array gfg = np.matrix('[4, 1, 9; 12, 3, 1; 4, 5, 6]'), find  \n",
    "##### i. Sum of all elements  \n",
    "##### ii. Sum of all elements row-wise  \n",
    "##### iii. Sum of all elements column-wise  "
   ]
  },
  {
   "cell_type": "code",
   "execution_count": 6,
   "id": "aaa6d1e9",
   "metadata": {},
   "outputs": [
    {
     "name": "stdout",
     "output_type": "stream",
     "text": [
      "SUM : 45\n",
      "ROW SUM : [[20  9 16]]\n",
      "COL SUM : \n",
      "[[14]\n",
      " [16]\n",
      " [15]]\n"
     ]
    }
   ],
   "source": [
    "gfg = np.matrix('[4, 1, 9; 12, 3, 1; 4, 5, 6]')\n",
    "sum = gfg.sum()\n",
    "row = gfg.sum(axis = 0)\n",
    "col = gfg.sum(axis = 1)\n",
    "print(f'SUM : {sum}')\n",
    "print(f'ROW SUM : {row}')\n",
    "print(f'COL SUM : \\n{col}')"
   ]
  },
  {
   "cell_type": "markdown",
   "id": "56580eff",
   "metadata": {},
   "source": [
    "##### 1(f) For the matrix: n_array = np.array([[55, 25, 15],[30, 44, 2],[11, 45, 77]]), find \n",
    "##### i. Sum of diagonal elements  \n",
    "##### ii. Eigen values of matrix  \n",
    "##### iii. Eigen vectors of matrix  \n",
    "##### 1iv. Inverse of matrix  \n",
    "##### v. Determinant of matrix "
   ]
  },
  {
   "cell_type": "code",
   "execution_count": 7,
   "id": "e6d53157",
   "metadata": {},
   "outputs": [
    {
     "name": "stdout",
     "output_type": "stream",
     "text": [
      "176\n",
      "[98.16835147 28.097044   49.73460452]\n",
      "[[ 0.4574917   0.34637121 -0.15017693]\n",
      " [ 0.28447814 -0.72784061 -0.4852124 ]\n",
      " [ 0.84248058  0.59184038  0.8614034 ]]\n",
      "137180.0000000001\n",
      "[[ 0.02404141 -0.00911212 -0.00444671]\n",
      " [-0.01667882  0.02966905  0.0024785 ]\n",
      " [ 0.00631287 -0.01603732  0.01217379]]\n"
     ]
    }
   ],
   "source": [
    "arr1 = np.array([[55, 25, 15],[30, 44, 2],[11, 45, 77]])\n",
    "dia_sum = np.trace(arr1)\n",
    "eigen_val,eigen_vector = np.linalg.eig(arr1)\n",
    "inverse = np.linalg.inv(arr1)\n",
    "det = np.linalg.det(arr1)\n",
    "print(dia_sum)\n",
    "print(eigen_val)\n",
    "print(eigen_vector)\n",
    "print(det)\n",
    "print(inverse)"
   ]
  },
  {
   "cell_type": "markdown",
   "id": "91ae6ab7",
   "metadata": {},
   "source": [
    "##### 1(g)  Multiply the following matrices and also find covariance between matrices using NumPy: \n",
    "##### i. p = [[1, 2], [2, 3]]    q = [[4, 5], [6, 7]]  \n",
    "##### ii. p = [[1, 2], [2, 3], [4, 5]]    q = [[4, 5, 1], [6, 7, 2]] \n"
   ]
  },
  {
   "cell_type": "code",
   "execution_count": 8,
   "id": "bce0e986",
   "metadata": {},
   "outputs": [
    {
     "name": "stdout",
     "output_type": "stream",
     "text": [
      "[[16 19]\n",
      " [26 31]]\n",
      "[[0.66666667 1.        ]\n",
      " [1.         1.66666667]]\n",
      "[[16 19  5]\n",
      " [26 31  8]\n",
      " [46 55 14]]\n",
      "[[2.16666667 0.23333333]\n",
      " [0.23333333 5.36666667]]\n"
     ]
    }
   ],
   "source": [
    "p = np.array([[1, 2], [2, 3]])\n",
    "q = np.array([[4, 5], [6, 7]])\n",
    "mul1 = np.dot(p,q)\n",
    "print(mul1)\n",
    "p1 = p.flatten()\n",
    "q1 = q.flatten()\n",
    "cov = np.cov(p1,q1)\n",
    "print(cov)\n",
    "p2 = np.array([[1, 2], [2, 3], [4, 5]])\n",
    "q2 = np.array([[4, 5, 1], [6, 7, 2]])\n",
    "mul2 = np.dot(p2,q2)\n",
    "print(mul2)\n",
    "p3 = p2.flatten()\n",
    "q3 = q2.flatten()\n",
    "cov1 = np.cov(p3,q3)\n",
    "print(cov1)"
   ]
  },
  {
   "cell_type": "markdown",
   "id": "0eaf00d7",
   "metadata": {},
   "source": [
    "##### 1(h) For the matrices: x = np.array([[2, 3, 4], [3, 2, 9]]); y = np.array([[1, 5, 0], [5, 10, 3]]),  find inner, outer and cartesian product? "
   ]
  },
  {
   "cell_type": "code",
   "execution_count": 9,
   "id": "b05686ec",
   "metadata": {},
   "outputs": [
    {
     "name": "stdout",
     "output_type": "stream",
     "text": [
      "INNER PRODUCT : \n",
      "[[17 52]\n",
      " [13 62]]\n",
      "OUTER PRODUCT : \n",
      "[[ 2 10  0 10 20  6]\n",
      " [ 3 15  0 15 30  9]\n",
      " [ 4 20  0 20 40 12]\n",
      " [ 3 15  0 15 30  9]\n",
      " [ 2 10  0 10 20  6]\n",
      " [ 9 45  0 45 90 27]]\n",
      "CARTESIAN PRODUCT : \n",
      "[[ 2  1]\n",
      " [ 2  5]\n",
      " [ 2  0]\n",
      " [ 2  5]\n",
      " [ 2 10]\n",
      " [ 2  3]\n",
      " [ 3  1]\n",
      " [ 3  5]\n",
      " [ 3  0]\n",
      " [ 3  5]\n",
      " [ 3 10]\n",
      " [ 3  3]\n",
      " [ 4  1]\n",
      " [ 4  5]\n",
      " [ 4  0]\n",
      " [ 4  5]\n",
      " [ 4 10]\n",
      " [ 4  3]\n",
      " [ 3  1]\n",
      " [ 3  5]\n",
      " [ 3  0]\n",
      " [ 3  5]\n",
      " [ 3 10]\n",
      " [ 3  3]\n",
      " [ 2  1]\n",
      " [ 2  5]\n",
      " [ 2  0]\n",
      " [ 2  5]\n",
      " [ 2 10]\n",
      " [ 2  3]\n",
      " [ 9  1]\n",
      " [ 9  5]\n",
      " [ 9  0]\n",
      " [ 9  5]\n",
      " [ 9 10]\n",
      " [ 9  3]]\n"
     ]
    }
   ],
   "source": [
    "x = np.array([[2, 3, 4], [3, 2, 9]])\n",
    "y = np.array([[1, 5, 0], [5, 10, 3]])\n",
    "print(f'INNER PRODUCT : \\n{np.inner(x,y)}')\n",
    "print(f'OUTER PRODUCT : \\n{np.outer(x,y)}')\n",
    "cart = np.array(np.meshgrid(x,y)).T.reshape(-1,2)\n",
    "print(f'CARTESIAN PRODUCT : \\n{cart}')"
   ]
  },
  {
   "cell_type": "markdown",
   "id": "776e1040",
   "metadata": {},
   "source": [
    "##### 2(a) For the array: array = np.array([[1, -2, 3],[-4, 5, -6]]) \n",
    "##### i. Find element-wise absolute value  \n",
    "##### ii. Find the 25th, 50th, and 75th percentile of flattened array, for each column, for each  row.  \n",
    "##### iii. Mean, Median and Standard Deviation of flattened array, of each column, and  each row  \n"
   ]
  },
  {
   "cell_type": "code",
   "execution_count": 10,
   "id": "68058185",
   "metadata": {},
   "outputs": [
    {
     "name": "stdout",
     "output_type": "stream",
     "text": [
      "[[1 2 3]\n",
      " [4 5 6]]\n",
      "-3.5 -0.5 2.5\n",
      "-0.5 -0.5 3.8622100754188224\n"
     ]
    }
   ],
   "source": [
    "arr = np.array([[1, -2, 3],[-4, 5, -6]])\n",
    "absVal = np.abs(arr)\n",
    "per25 = np.percentile(arr.flatten(),25)\n",
    "per50 = np.percentile(arr.flatten(),50)\n",
    "per75 = np.percentile(arr.flatten(),75)\n",
    "mean_val = np.mean(arr)\n",
    "median_val = np.median(arr)\n",
    "std_val = np.std(arr)\n",
    "print(absVal)\n",
    "print(per25,per50,per75)\n",
    "print(mean_val,median_val,std_val)"
   ]
  },
  {
   "cell_type": "markdown",
   "id": "df3710b4",
   "metadata": {},
   "source": [
    "##### 2(b) For the array: a = np.array([-1.8, -1.6, -0.5, 0.5,1.6, 1.8, 3.0]). Find floor, ceiling  and truncated value, rounded values\n"
   ]
  },
  {
   "cell_type": "code",
   "execution_count": 11,
   "id": "36908dcc",
   "metadata": {},
   "outputs": [
    {
     "name": "stdout",
     "output_type": "stream",
     "text": [
      "[-2. -2. -1.  0.  1.  1.  3.]\n",
      "[-1. -1. -0.  1.  2.  2.  3.]\n",
      "[-1. -1. -0.  0.  1.  1.  3.]\n",
      "[-2. -2. -0.  0.  2.  2.  3.]\n"
     ]
    }
   ],
   "source": [
    "a = np.array([-1.8, -1.6, -0.5, 0.5,1.6, 1.8, 3.0])\n",
    "print(np.floor(a))\n",
    "print(np.ceil(a))\n",
    "print(np.trunc(a))\n",
    "print(np.round(a))\n"
   ]
  },
  {
   "cell_type": "markdown",
   "id": "9fdbff44",
   "metadata": {},
   "source": [
    "##### 3(a) For the array: array = np.array([10, 52, 62, 16, 16, 54, 453]), find  \n",
    "##### i. Sorted array  \n",
    "##### ii. Indices of sorted array  \n",
    "##### iii. 4 smallest elements  \n",
    "##### iv. 5 largest elements  \n"
   ]
  },
  {
   "cell_type": "code",
   "execution_count": 12,
   "id": "4b9caccf",
   "metadata": {},
   "outputs": [
    {
     "name": "stdout",
     "output_type": "stream",
     "text": [
      "[ 10  16  16  52  54  62 453]\n",
      "[0 3 4 1 5 2 6]\n",
      "[10 16 16 52]\n",
      "[ 16  52  54  62 453]\n"
     ]
    }
   ],
   "source": [
    "arr = np.array([10, 52, 62, 16, 16, 54, 453])\n",
    "print(np.sort(arr))\n",
    "print(np.argsort(arr))\n",
    "print(np.sort(arr)[:4])\n",
    "print(np.sort(arr)[-5:])"
   ]
  },
  {
   "cell_type": "markdown",
   "id": "8a2faec2",
   "metadata": {},
   "source": [
    "#####  3(b) For the array: array = np.array([1.0, 1.2, 2.2, 2.0, 3.0, 2.0]), find  \n",
    "#####  i. Integer elements only  \n",
    "#####  ii. Float elements only"
   ]
  },
  {
   "cell_type": "code",
   "execution_count": 13,
   "id": "772eeb04",
   "metadata": {},
   "outputs": [
    {
     "name": "stdout",
     "output_type": "stream",
     "text": [
      "[1. 2. 3. 2.]\n",
      "[1.2 2.2]\n"
     ]
    }
   ],
   "source": [
    "arr = np.array([1.0, 1.2, 2.2, 2.0, 3.0, 2.0])\n",
    "integers = arr[arr == arr.astype(int)]\n",
    "floatEle = arr[arr != arr.astype(int)]\n",
    "print(integers)\n",
    "print(floatEle)"
   ]
  },
  {
   "cell_type": "markdown",
   "id": "9ce077bc",
   "metadata": {},
   "source": [
    "##### 4(a) Write a function named img_to_array(path) that reads an image from a specified path and  save it as text file on local machine? (Note: use separate cases for RGB and Grey Scale  images)  "
   ]
  },
  {
   "cell_type": "code",
   "execution_count": 14,
   "id": "9f185b9f",
   "metadata": {},
   "outputs": [
    {
     "name": "stdout",
     "output_type": "stream",
     "text": [
      "RGB image array has been saved to RGB_image_array.npy\n"
     ]
    }
   ],
   "source": [
    "import cv2\n",
    "def img_to_array(path):\n",
    "    img = cv2.imread(path)\n",
    "    if len(img.shape) == 3:  # RGB image\n",
    "        np.savetxt('image_rgb.txt', img.reshape(-1, img.shape[2]), fmt='%d')\n",
    "    else:  # Grayscale image\n",
    "        np.savetxt('image_greyscale.txt', img, fmt='%d')\n",
    "img_to_array(r\"C:\\Users\\udit0\\OneDrive\\Desktop\\ML\\Assignments\\Assignment 1\\Screenshot 2024-08-07 124154.png\")"
   ]
  },
  {
   "cell_type": "markdown",
   "id": "bdd8f653",
   "metadata": {},
   "source": [
    "##### 4(b) Load the saved file into jupyter notebook? "
   ]
  },
  {
   "cell_type": "code",
   "execution_count": 15,
   "id": "be2d6e68",
   "metadata": {},
   "outputs": [
    {
     "name": "stdout",
     "output_type": "stream",
     "text": [
      "SHAPE OF THE LOADED ARRAY :  (774390, 3)\n",
      "FIRST FEW ELEMENTS OF THE ARRAY : \n",
      " [[255 255 255]\n",
      " [255 255 255]\n",
      " [255 255 255]\n",
      " [255 255 255]\n",
      " [255 255 255]\n",
      " [255 255 255]\n",
      " [255 255 255]\n",
      " [255 255 255]\n",
      " [255 255 255]\n",
      " [255 255 255]\n",
      " [255 255 255]\n",
      " [255 255 255]\n",
      " [255 255 255]\n",
      " [255 255 255]\n",
      " [255 255 255]\n",
      " [255 255 255]\n",
      " [255 255 255]\n",
      " [255 255 255]\n",
      " [255 255 255]\n",
      " [255 255 255]\n",
      " [255 255 255]\n",
      " [255 255 255]\n",
      " [255 255 255]\n",
      " [255 255 255]\n",
      " [255 255 255]]\n"
     ]
    }
   ],
   "source": [
    "loaded_array = np.load(\"RGB_image_array.npy\")\n",
    "print(\"SHAPE OF THE LOADED ARRAY : \",loaded_array.shape)\n",
    "print(\"FIRST FEW ELEMENTS OF THE ARRAY : \\n\",loaded_array[:25])"
   ]
  }
 ],
 "metadata": {
  "kernelspec": {
   "display_name": "Python 3 (ipykernel)",
   "language": "python",
   "name": "python3"
  },
  "language_info": {
   "codemirror_mode": {
    "name": "ipython",
    "version": 3
   },
   "file_extension": ".py",
   "mimetype": "text/x-python",
   "name": "python",
   "nbconvert_exporter": "python",
   "pygments_lexer": "ipython3",
   "version": "3.11.5"
  }
 },
 "nbformat": 4,
 "nbformat_minor": 5
}
